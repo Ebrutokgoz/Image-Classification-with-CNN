{
 "cells": [
  {
   "cell_type": "code",
   "execution_count": 1,
   "metadata": {},
   "outputs": [],
   "source": [
    "import matplotlib.pyplot as plt\n",
    "import numpy as np\n",
    "import os\n",
    "import tensorflow as tf\n",
    "import pathlib\n",
    "import tensorflow_hub as hub"
   ]
  },
  {
   "cell_type": "code",
   "execution_count": 2,
   "metadata": {},
   "outputs": [],
   "source": [
    "\n",
    "train_dir = 'C:/Users/ebrut/Desktop/Son/DatasetOutput2/train'\n",
    "test_dir = 'C:/Users/ebrut/Desktop/Son/DatasetOutput2/test'\n",
    "val_dir = 'C:/Users/ebrut/Desktop/Son/DatasetOutput2/val'"
   ]
  },
  {
   "cell_type": "code",
   "execution_count": 3,
   "metadata": {},
   "outputs": [],
   "source": [
    "from tensorflow.keras.preprocessing.image import ImageDataGenerator\n",
    "import matplotlib.pyplot as plt\n",
    "\n",
    "#load datasets\n",
    "datagen = ImageDataGenerator(rescale=1./255)"
   ]
  },
  {
   "cell_type": "code",
   "execution_count": 4,
   "metadata": {},
   "outputs": [
    {
     "name": "stdout",
     "output_type": "stream",
     "text": [
      "Found 6036 images belonging to 9 classes.\n",
      "Found 1723 images belonging to 9 classes.\n",
      "Found 869 images belonging to 9 classes.\n"
     ]
    }
   ],
   "source": [
    "train_gen = datagen.flow_from_directory(train_dir,\n",
    "                                        target_size=(224,224),\n",
    "                                        batch_size = 32,\n",
    "                                        class_mode = 'categorical',\n",
    "                                        \n",
    "                                        )\n",
    "\n",
    "valid_gen = datagen.flow_from_directory(val_dir,\n",
    "                                        target_size=(224,224),\n",
    "                                        batch_size = 32,\n",
    "                                        class_mode = 'categorical',\n",
    "                    \n",
    "                                        )\n",
    "\n",
    "test_gen = datagen.flow_from_directory(test_dir,\n",
    "                                        target_size=(224,224),\n",
    "                                        batch_size = 32,\n",
    "                                        class_mode = 'categorical',\n",
    "                                        \n",
    "                                        )"
   ]
  },
  {
   "cell_type": "code",
   "execution_count": 8,
   "metadata": {},
   "outputs": [],
   "source": [
    "mobilenet_v2 = \"https://tfhub.dev/google/tf2-preview/mobilenet_v2/feature_vector/4\""
   ]
  },
  {
   "cell_type": "code",
   "execution_count": 9,
   "metadata": {},
   "outputs": [
    {
     "name": "stdout",
     "output_type": "stream",
     "text": [
      "WARNING:tensorflow:Please fix your imports. Module tensorflow.python.training.tracking.data_structures has been moved to tensorflow.python.trackable.data_structures. The old module will be deleted in version 2.11.\n"
     ]
    }
   ],
   "source": [
    "model_layers = hub.KerasLayer(mobilenet_v2, input_shape=(224,224,3))"
   ]
  },
  {
   "cell_type": "code",
   "execution_count": 10,
   "metadata": {},
   "outputs": [],
   "source": [
    "model_layers.trainable = False"
   ]
  },
  {
   "cell_type": "code",
   "execution_count": 7,
   "metadata": {},
   "outputs": [],
   "source": [
    "# data_augmentation = tf.keras.Sequential([\n",
    "#   tf.keras.layers.RandomFlip('horizontal'),\n",
    "#   tf.keras.layers.RandomRotation(0.2),\n",
    "# ])"
   ]
  },
  {
   "cell_type": "code",
   "execution_count": null,
   "metadata": {},
   "outputs": [],
   "source": [
    "# preprocess_input = tf.keras.applications.mobilenet_v2.preprocess_input\n",
    "# inputs = tf.keras.Input(shape=(160, 160, 3))\n",
    "# x = data_augmentation(inputs)\n",
    "# x = preprocess_input(inputs)\n",
    "# x = model_layers(x, training=False)\n",
    "# x = global_average_layer(x)\n",
    "# x = tf.keras.layers.Dropout(0.2)(x)\n",
    "# outputs = prediction_layer(x)\n",
    "# model = tf.keras.Model(inputs, outputs)"
   ]
  },
  {
   "cell_type": "code",
   "execution_count": 12,
   "metadata": {},
   "outputs": [],
   "source": [
    "model = tf.keras.Sequential([\n",
    "  model_layers,\n",
    "  tf.keras.layers.Dropout(0.3),\n",
    "  tf.keras.layers.Dense(9,activation='softmax')\n",
    "])"
   ]
  },
  {
   "cell_type": "code",
   "execution_count": 13,
   "metadata": {},
   "outputs": [
    {
     "name": "stdout",
     "output_type": "stream",
     "text": [
      "Model: \"sequential_1\"\n",
      "_________________________________________________________________\n",
      " Layer (type)                Output Shape              Param #   \n",
      "=================================================================\n",
      " keras_layer (KerasLayer)    (None, 1280)              2257984   \n",
      "                                                                 \n",
      " dropout (Dropout)           (None, 1280)              0         \n",
      "                                                                 \n",
      " dense (Dense)               (None, 9)                 11529     \n",
      "                                                                 \n",
      "=================================================================\n",
      "Total params: 2,269,513\n",
      "Trainable params: 11,529\n",
      "Non-trainable params: 2,257,984\n",
      "_________________________________________________________________\n"
     ]
    }
   ],
   "source": [
    "model.summary()"
   ]
  },
  {
   "cell_type": "code",
   "execution_count": 14,
   "metadata": {},
   "outputs": [],
   "source": [
    "model.compile(optimizer = tf.keras.optimizers.Adam(), loss = tf.keras.losses.CategoricalCrossentropy(from_logits=True), metrics = [\"accuracy\"])"
   ]
  },
  {
   "cell_type": "code",
   "execution_count": 15,
   "metadata": {},
   "outputs": [
    {
     "name": "stdout",
     "output_type": "stream",
     "text": [
      "Epoch 1/20\n"
     ]
    },
    {
     "name": "stderr",
     "output_type": "stream",
     "text": [
      "c:\\Users\\ebrut\\AppData\\Local\\Programs\\Python\\Python310\\lib\\site-packages\\keras\\backend.py:5531: UserWarning: \"`categorical_crossentropy` received `from_logits=True`, but the `output` argument was produced by a Softmax activation and thus does not represent logits. Was this intended?\n",
      "  output, from_logits = _get_logits(\n"
     ]
    },
    {
     "name": "stdout",
     "output_type": "stream",
     "text": [
      "189/189 [==============================] - 212s 1s/step - loss: 1.4951 - accuracy: 0.4700 - val_loss: 1.1463 - val_accuracy: 0.5914\n",
      "Epoch 2/20\n",
      "189/189 [==============================] - 193s 1s/step - loss: 1.1423 - accuracy: 0.5934 - val_loss: 1.0804 - val_accuracy: 0.6158\n",
      "Epoch 3/20\n",
      "189/189 [==============================] - 202s 1s/step - loss: 1.0491 - accuracy: 0.6310 - val_loss: 1.0643 - val_accuracy: 0.6239\n",
      "Epoch 4/20\n",
      "189/189 [==============================] - 216s 1s/step - loss: 0.9844 - accuracy: 0.6557 - val_loss: 1.0344 - val_accuracy: 0.6349\n",
      "Epoch 5/20\n",
      "189/189 [==============================] - 213s 1s/step - loss: 0.9559 - accuracy: 0.6615 - val_loss: 1.0357 - val_accuracy: 0.6268\n",
      "Epoch 6/20\n",
      "189/189 [==============================] - 205s 1s/step - loss: 0.9153 - accuracy: 0.6793 - val_loss: 1.0403 - val_accuracy: 0.6344\n",
      "Epoch 7/20\n",
      "189/189 [==============================] - 201s 1s/step - loss: 0.8889 - accuracy: 0.6882 - val_loss: 1.0494 - val_accuracy: 0.6384\n",
      "Epoch 8/20\n",
      "189/189 [==============================] - 197s 1s/step - loss: 0.8624 - accuracy: 0.6968 - val_loss: 1.0285 - val_accuracy: 0.6506\n",
      "Epoch 9/20\n",
      "189/189 [==============================] - 206s 1s/step - loss: 0.8586 - accuracy: 0.6972 - val_loss: 1.0135 - val_accuracy: 0.6454\n",
      "Epoch 10/20\n",
      "189/189 [==============================] - 200s 1s/step - loss: 0.8482 - accuracy: 0.7049 - val_loss: 1.0031 - val_accuracy: 0.6442\n",
      "Epoch 11/20\n",
      "189/189 [==============================] - 175s 924ms/step - loss: 0.8283 - accuracy: 0.7134 - val_loss: 1.0023 - val_accuracy: 0.6483\n",
      "Epoch 12/20\n",
      "189/189 [==============================] - 148s 785ms/step - loss: 0.8192 - accuracy: 0.7104 - val_loss: 1.0186 - val_accuracy: 0.6454\n",
      "Epoch 13/20\n",
      "189/189 [==============================] - 151s 798ms/step - loss: 0.8176 - accuracy: 0.7145 - val_loss: 1.0082 - val_accuracy: 0.6448\n",
      "Epoch 14/20\n",
      "189/189 [==============================] - 150s 797ms/step - loss: 0.8172 - accuracy: 0.7127 - val_loss: 1.0040 - val_accuracy: 0.6477\n",
      "Epoch 15/20\n",
      "189/189 [==============================] - 150s 796ms/step - loss: 0.8073 - accuracy: 0.7154 - val_loss: 1.0068 - val_accuracy: 0.6547\n",
      "Epoch 16/20\n",
      "189/189 [==============================] - 158s 836ms/step - loss: 0.7922 - accuracy: 0.7218 - val_loss: 1.0081 - val_accuracy: 0.6471\n",
      "Epoch 17/20\n",
      "189/189 [==============================] - 163s 865ms/step - loss: 0.7854 - accuracy: 0.7276 - val_loss: 1.0199 - val_accuracy: 0.6454\n",
      "Epoch 18/20\n",
      "189/189 [==============================] - 159s 844ms/step - loss: 0.7808 - accuracy: 0.7192 - val_loss: 1.0289 - val_accuracy: 0.6373\n",
      "Epoch 19/20\n",
      "189/189 [==============================] - 153s 812ms/step - loss: 0.7855 - accuracy: 0.7255 - val_loss: 1.0266 - val_accuracy: 0.6442\n",
      "Epoch 20/20\n",
      "189/189 [==============================] - 153s 809ms/step - loss: 0.7859 - accuracy: 0.7200 - val_loss: 1.0178 - val_accuracy: 0.6431\n"
     ]
    }
   ],
   "source": [
    "initial_epochs = 20\n",
    "model_fit = model.fit(train_gen, epochs=initial_epochs, validation_data=valid_gen)"
   ]
  },
  {
   "cell_type": "code",
   "execution_count": null,
   "metadata": {},
   "outputs": [],
   "source": [
    "model.save(\"multiclass_mobilenet.h5\")"
   ]
  },
  {
   "attachments": {},
   "cell_type": "markdown",
   "metadata": {},
   "source": [
    "**Test ve analiz**"
   ]
  },
  {
   "cell_type": "code",
   "execution_count": null,
   "metadata": {},
   "outputs": [
    {
     "name": "stdout",
     "output_type": "stream",
     "text": [
      "28/28 [==============================] - 27s 953ms/step - loss: 0.9176 - accuracy: 0.6881\n",
      "Test accuracy : 0.6881473064422607\n"
     ]
    }
   ],
   "source": [
    "loss, accuracy = model.evaluate(test_gen)\n",
    "print('Test accuracy :', accuracy)"
   ]
  },
  {
   "cell_type": "code",
   "execution_count": 17,
   "metadata": {},
   "outputs": [],
   "source": [
    "classes = ['kadin-tisort', 'elbise', 'kadin-bluz', 'kadin-gomlek', 'kadin-ceket', 'kadin-kazak', 'kadin-hirka', 'kadin-sweatshirt', 'kadin-mont-kaban']"
   ]
  },
  {
   "cell_type": "code",
   "execution_count": null,
   "metadata": {},
   "outputs": [
    {
     "name": "stderr",
     "output_type": "stream",
     "text": [
      "C:\\Users\\ebrut\\AppData\\Local\\Temp\\ipykernel_3744\\3374749834.py:38: UserWarning: `Model.predict_generator` is deprecated and will be removed in a future version. Please use `Model.predict`, which supports generators.\n",
      "  Y_pred = neural_net.predict_generator(test_gen)\n"
     ]
    },
    {
     "name": "stdout",
     "output_type": "stream",
     "text": [
      "Confusion Matrix\n",
      "Normalized confusion matrix\n",
      "Classification Report\n",
      "                  precision    recall  f1-score   support\n",
      "\n",
      "          elbise       0.09      0.11      0.10        98\n",
      "      kadin-bluz       0.10      0.07      0.08        98\n",
      "     kadin-ceket       0.12      0.11      0.11       101\n",
      "    kadin-gomlek       0.13      0.19      0.15        99\n",
      "     kadin-hirka       0.02      0.01      0.02        78\n",
      "     kadin-kazak       0.11      0.13      0.12       102\n",
      "kadin-mont-kaban       0.14      0.12      0.13       100\n",
      "kadin-sweatshirt       0.11      0.11      0.11        92\n",
      "    kadin-tisort       0.13      0.13      0.13       101\n",
      "\n",
      "        accuracy                           0.11       869\n",
      "       macro avg       0.11      0.11      0.11       869\n",
      "    weighted avg       0.11      0.11      0.11       869\n",
      "\n"
     ]
    },
    {
     "data": {
      "image/png": "[encoded data removed]",
      "text/plain": [
       "<Figure size 720x720 with 2 Axes>"
      ]
     },
     "metadata": {
      "needs_background": "light"
     },
     "output_type": "display_data"
    }
   ],
   "source": [
    "def plot_confusion_matrix(cm, classes, normalize=True, title='Confusion matrix', cmap=plt.cm.Blues):\n",
    "    \"\"\"\n",
    "    This function prints and plots the confusion matrix.\n",
    "    Normalization can be applied by setting `normalize=True`.\n",
    "    \"\"\"\n",
    "    plt.figure(figsize=(10,10))\n",
    "    plt.imshow(cm, interpolation='nearest', cmap=cmap)\n",
    "    plt.title(title)\n",
    "    plt.colorbar()\n",
    "    tick_marks = np.arange(len(classes))\n",
    "    plt.xticks(tick_marks, classes, rotation=45)\n",
    "    plt.yticks(tick_marks, classes)\n",
    "    if normalize:\n",
    "        cm = cm.astype('float') / cm.sum(axis=1)[:, np.newaxis]\n",
    "        cm = np.around(cm, decimals=2)\n",
    "        cm[np.isnan(cm)] = 0.0\n",
    "        print(\"Normalized confusion matrix\")\n",
    "    else:\n",
    "        print('Confusion matrix, without normalization')\n",
    "    thresh = cm.max() / 2.\n",
    "    for i, j in itertools.product(range(cm.shape[0]), range(cm.shape[1])):\n",
    "        plt.text(j, i, cm[i, j],\n",
    "                 horizontalalignment=\"center\",\n",
    "                 color=\"white\" if cm[i, j] > thresh else \"black\")\n",
    "    plt.tight_layout()\n",
    "    plt.ylabel('True label')\n",
    "    plt.xlabel('Predicted label')\n",
    "#Print the Target names\n",
    "from sklearn.metrics import classification_report, confusion_matrix \n",
    "import itertools \n",
    "#shuffle=False\n",
    "target_names = []\n",
    "\n",
    "for key in train_gen.class_indices:\n",
    "    target_names.append(key)\n",
    "# print(target_names)\n",
    "#Confution Matrix\n",
    "Y_pred = model.predict_generator(test_gen)\n",
    "y_pred = np.argmax(Y_pred, axis=1)\n",
    "print('Confusion Matrix')\n",
    "cm = confusion_matrix(test_gen.classes, y_pred)\n",
    "plot_confusion_matrix(cm, target_names, title='Confusion Matrix')\n",
    "#Print Classification Report\n",
    "print('Classification Report')\n",
    "print(classification_report(test_gen.classes, y_pred, target_names=target_names))"
   ]
  },
  {
   "cell_type": "code",
   "execution_count": null,
   "metadata": {},
   "outputs": [
    {
     "data": {
      "image/png": "[encoded data removed]",
      "text/plain": [
       "<Figure size 576x576 with 2 Axes>"
      ]
     },
     "metadata": {
      "needs_background": "light"
     },
     "output_type": "display_data"
    }
   ],
   "source": [
    "acc = model_fit.history['accuracy']\n",
    "val_acc = model_fit.history['val_accuracy']\n",
    "\n",
    "loss = model_fit.history['loss']\n",
    "val_loss = model_fit.history['val_loss']\n",
    "\n",
    "plt.figure(figsize=(8, 8))\n",
    "plt.subplot(2, 1, 1)\n",
    "plt.plot(acc, label='Training Accuracy')\n",
    "plt.plot(val_acc, label='Validation Accuracy')\n",
    "plt.legend(loc='lower right')\n",
    "plt.ylabel('Accuracy')\n",
    "plt.ylim([min(plt.ylim()),1])\n",
    "plt.title('Training and Validation Accuracy')\n",
    "\n",
    "plt.subplot(2, 1, 2)\n",
    "plt.plot(loss, label='Training Loss')\n",
    "plt.plot(val_loss, label='Validation Loss')\n",
    "plt.legend(loc='upper right')\n",
    "plt.ylabel('Cross Entropy')\n",
    "plt.ylim([0,3.0])\n",
    "plt.title('Training and Validation Loss')\n",
    "plt.xlabel('epoch')\n",
    "plt.show()"
   ]
  },
  {
   "cell_type": "code",
   "execution_count": null,
   "metadata": {},
   "outputs": [],
   "source": [
    "# Let's take a look to see how many layers are in the base model\n",
    "# print(\"Number of layers in the base model: \", len(model.layers))\n",
    "\n",
    "# # Fine-tune from this layer onwards\n",
    "# fine_tune_at = 100\n",
    "\n",
    "# # Freeze all the layers before the `fine_tune_at` layer\n",
    "# for layer in model.layers[:fine_tune_at]:\n",
    "#   layer.trainable = False"
   ]
  },
  {
   "cell_type": "code",
   "execution_count": null,
   "metadata": {},
   "outputs": [],
   "source": [
    "# model.compile(loss=tf.keras.losses.SparseCategoricalCrossentropy(from_logits=True),\n",
    "#               optimizer = tf.keras.optimizers.RMSprop(learning_rate=base_learning_rate/10),\n",
    "#               metrics=['accuracy'])"
   ]
  },
  {
   "cell_type": "code",
   "execution_count": null,
   "metadata": {},
   "outputs": [],
   "source": [
    "# fine_tune_epochs = 10\n",
    "# total_epochs =  initial_epochs + fine_tune_epochs\n",
    "\n",
    "# history_fine = model.fit(train_gen,\n",
    "#                          epochs=total_epochs,\n",
    "#                          initial_epoch=history.epoch[-1],\n",
    "#                          validation_data=valid_gen)"
   ]
  },
  {
   "attachments": {},
   "cell_type": "markdown",
   "metadata": {},
   "source": [
    "**Giysi görüntüsü ile test**"
   ]
  },
  {
   "cell_type": "code",
   "execution_count": 20,
   "metadata": {},
   "outputs": [],
   "source": [
    "from tensorflow.keras.models import load_model\n",
    "from tensorflow.keras.preprocessing.image import load_img, img_to_array\n",
    "import numpy as np"
   ]
  },
  {
   "cell_type": "code",
   "execution_count": 56,
   "metadata": {},
   "outputs": [
    {
     "name": "stdout",
     "output_type": "stream",
     "text": [
      "shape: (1, 224, 224, 3)\n"
     ]
    }
   ],
   "source": [
    "image = load_img(\"kadin_kazak.webp\", target_size=(224,224))\n",
    "image = img_to_array(image) / 255 # 0-255 -> 0-1\n",
    "image = np.expand_dims(image, axis=0)\n",
    "print('shape:', image.shape)"
   ]
  },
  {
   "cell_type": "code",
   "execution_count": 57,
   "metadata": {},
   "outputs": [
    {
     "name": "stdout",
     "output_type": "stream",
     "text": [
      "1/1 [==============================] - 0s 149ms/step\n"
     ]
    }
   ],
   "source": [
    "preds = neural_net.predict(image)"
   ]
  },
  {
   "cell_type": "code",
   "execution_count": 58,
   "metadata": {},
   "outputs": [
    {
     "data": {
      "text/plain": [
       "array([[0.00169827, 0.18276282, 0.0151164 , 0.00847831, 0.09267692,\n",
       "        0.67873853, 0.00076042, 0.01441456, 0.0053538 ]], dtype=float32)"
      ]
     },
     "execution_count": 58,
     "metadata": {},
     "output_type": "execute_result"
    }
   ],
   "source": [
    "preds"
   ]
  },
  {
   "cell_type": "code",
   "execution_count": 59,
   "metadata": {},
   "outputs": [
    {
     "data": {
      "text/plain": [
       "5"
      ]
     },
     "execution_count": 59,
     "metadata": {},
     "output_type": "execute_result"
    }
   ],
   "source": [
    "preds.argmax()"
   ]
  },
  {
   "cell_type": "code",
   "execution_count": 60,
   "metadata": {},
   "outputs": [
    {
     "data": {
      "text/plain": [
       "'kadin-kazak'"
      ]
     },
     "execution_count": 60,
     "metadata": {},
     "output_type": "execute_result"
    }
   ],
   "source": [
    "classes[preds.argmax()]"
   ]
  }
 ],
 "metadata": {
  "kernelspec": {
   "display_name": "Python 3",
   "language": "python",
   "name": "python3"
  },
  "language_info": {
   "codemirror_mode": {
    "name": "ipython",
    "version": 3
   },
   "file_extension": ".py",
   "mimetype": "text/x-python",
   "name": "python",
   "nbconvert_exporter": "python",
   "pygments_lexer": "ipython3",
   "version": "3.10.4 (tags/v3.10.4:9d38120, Mar 23 2022, 23:13:41) [MSC v.1929 64 bit (AMD64)]"
  },
  "orig_nbformat": 4,
  "vscode": {
   "interpreter": {
    "hash": "eb3a392bda5023f895f2a24f04cf5a51bbaebf43057f3d31297d0ad2d0db664d"
   }
  }
 },
 "nbformat": 4,
 "nbformat_minor": 2
}
