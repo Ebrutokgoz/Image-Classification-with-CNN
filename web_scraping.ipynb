{
 "cells": [
  {
   "cell_type": "code",
   "execution_count": 1,
   "metadata": {},
   "outputs": [],
   "source": [
    "import requests\n",
    "from bs4 import BeautifulSoup"
   ]
  },
  {
   "cell_type": "code",
   "execution_count": 2,
   "metadata": {},
   "outputs": [],
   "source": [
    "\n",
    "from selenium.webdriver.common.keys import Keys\n",
    "from selenium import webdriver\n",
    "from selenium.webdriver.common.by import By\n",
    "from selenium.webdriver.support.ui import WebDriverWait\n",
    "from selenium.webdriver.support import expected_conditions as EC\n",
    "import time"
   ]
  },
  {
   "cell_type": "code",
   "execution_count": 3,
   "metadata": {},
   "outputs": [],
   "source": [
    "URL = \"https://www.ciceksepeti.com/kadin-ust-giyim\"\n",
    "header = {\"User-Agent\":\"Mozilla/5.0 (Windows NT 10.0; Win64; x64) AppleWebKit/537.36 (KHTML, like Gecko) Chrome/107.0.0.0 Safari/537.36\"}"
   ]
  },
  {
   "cell_type": "code",
   "execution_count": 4,
   "metadata": {},
   "outputs": [
    {
     "data": {
      "text/plain": [
       "<Response [200]>"
      ]
     },
     "execution_count": 4,
     "metadata": {},
     "output_type": "execute_result"
    }
   ],
   "source": [
    "r= requests.get(URL, headers= header)\n",
    "soup = BeautifulSoup(r.content, \"lxml\")\n",
    "r"
   ]
  },
  {
   "cell_type": "code",
   "execution_count": 5,
   "metadata": {},
   "outputs": [
    {
     "name": "stdout",
     "output_type": "stream",
     "text": [
      "['https://www.ciceksepeti.com/kadin-tisort', 'https://www.ciceksepeti.com/elbise', 'https://www.ciceksepeti.com/kadin-bluz', 'https://www.ciceksepeti.com/kadin-gomlek', 'https://www.ciceksepeti.com/kadin-ceket', 'https://www.ciceksepeti.com/kadin-kazak', 'https://www.ciceksepeti.com/kadin-hirka', 'https://www.ciceksepeti.com/kadin-sweatshirt', 'https://www.ciceksepeti.com/tulum-kimono-salopet', 'https://www.ciceksepeti.com/kadin-trenckot', 'https://www.ciceksepeti.com/kadin-mont-kaban']\n",
      "['https://www.ciceksepeti.com/kadin-tisort', 'https://www.ciceksepeti.com/elbise', 'https://www.ciceksepeti.com/kadin-bluz', 'https://www.ciceksepeti.com/kadin-gomlek', 'https://www.ciceksepeti.com/kadin-ceket', 'https://www.ciceksepeti.com/kadin-kazak', 'https://www.ciceksepeti.com/kadin-hirka', 'https://www.ciceksepeti.com/kadin-sweatshirt', 'https://www.ciceksepeti.com/kadin-mont-kaban']\n"
     ]
    }
   ],
   "source": [
    "categories1 = soup.find(\"div\", attrs={\"class\":\"story-slider js-story-slider\"})\n",
    "##print(category1)\n",
    "categories2 = categories1.find_all(\"a\")\n",
    "csLink =\"https://www.ciceksepeti.com/\"\n",
    "categoryLinks = []\n",
    "for category in categories2:\n",
    "    link = category.get(\"href\")\n",
    "    completeLink= csLink + link\n",
    "    categoryLinks.append(completeLink)\n",
    "categoryLinks\n",
    "print(categoryLinks)\n",
    "categoryLinks.remove('https://www.ciceksepeti.com/tulum-kimono-salopet')\n",
    "categoryLinks.remove('https://www.ciceksepeti.com/kadin-trenckot')\n",
    "print(categoryLinks)"
   ]
  },
  {
   "cell_type": "code",
   "execution_count": null,
   "metadata": {},
   "outputs": [],
   "source": [
    "from selenium import webdriver\n",
    "from selenium.webdriver.chrome.service import Service\n",
    "from webdriver_manager.chrome import ChromeDriverManager\n",
    "import os\n",
    "\n",
    "## SELENIUM\n",
    "#driver = webdriver.Chrome(service=Service(ChromeDriverManager().install()))\n",
    "# for link in categoryLinks:\n",
    "    # categoryName = categoryLinks[i].split('/')[3]\n",
    "    # os.makedirs(categoryName)\n",
    "    # page=1\n",
    "    # while page < 3:\n",
    "    #     driver.get(categoryLinks[i]+'?page='+str(page))\n",
    "    #     category = driver.page_source\n",
    "    #     getImages(category,categoryName, page)\n",
    "        \n",
    "    #     page = page + 1\n",
    "\n",
    "## BEAUTIFULSOUP \n",
    "categoryNames = []\n",
    "for link in categoryLinks:\n",
    "    categoryName = link.split('/')[3]\n",
    "    categoryNames.append(categoryName)\n",
    "    %store categoryNames\n",
    "\n",
    "    os.makedirs(\"Dataset/\"+categoryName)\n",
    "    page=1\n",
    "    n=1 \n",
    "    while page < 18:\n",
    "        url = link+'?page='+str(page)\n",
    "\n",
    "        r = requests.get(url, headers = header)\n",
    "        categoryContent = BeautifulSoup(r.content, \"lxml\")\n",
    "        products = categoryContent.find_all(\"div\", attrs={\"class\":\"products__item-img-container ratio-container\"})\n",
    "\n",
    "        for product in products:\n",
    "            try:    \n",
    "                productPhoto = product.find(\"img\")\n",
    "                url = productPhoto[\"data-src\"]\n",
    "                r = requests.get(url)\n",
    "            except:\n",
    "                print(\"**\")\n",
    "            with open(categoryName+'/'+categoryName+'_'+str(n)+'.jpg', 'wb') as f:\n",
    "                f.write(r.content)\n",
    "    \n",
    "            # datayı alma\n",
    "            # print(r.status_code)\n",
    "            # print(r.headers['content-type'])\n",
    "            # print(r.encoding)\n",
    "        \n",
    "            print(str(n))\n",
    "            print(url)\n",
    "            n = n+1\n",
    "\n",
    "        page = page + 1\n"
   ]
  }
 ],
 "metadata": {
  "kernelspec": {
   "display_name": "Python 3",
   "language": "python",
   "name": "python3"
  },
  "language_info": {
   "codemirror_mode": {
    "name": "ipython",
    "version": 3
   },
   "file_extension": ".py",
   "mimetype": "text/x-python",
   "name": "python",
   "nbconvert_exporter": "python",
   "pygments_lexer": "ipython3",
   "version": "3.10.4 (tags/v3.10.4:9d38120, Mar 23 2022, 23:13:41) [MSC v.1929 64 bit (AMD64)]"
  },
  "orig_nbformat": 4,
  "vscode": {
   "interpreter": {
    "hash": "eb3a392bda5023f895f2a24f04cf5a51bbaebf43057f3d31297d0ad2d0db664d"
   }
  }
 },
 "nbformat": 4,
 "nbformat_minor": 2
}
